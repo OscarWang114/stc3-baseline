{
 "cells": [
  {
   "cell_type": "code",
   "execution_count": 179,
   "metadata": {},
   "outputs": [],
   "source": [
    "import json\n",
    "\n",
    "import numpy as np\n",
    "import pandas as pd\n",
    "import seaborn as sns\n",
    "from pathlib2 import Path\n",
    "from collections import defaultdict, OrderedDict\n",
    "from bert_serving.client import BertClient\n",
    "import fasttext\n",
    "from xgboost import XGBRegressor\n",
    "from sklearn.model_selection import KFold\n",
    "from sklearn.model_selection import cross_validate\n",
    "from sklearn.model_selection import GridSearchCV\n",
    "from sklearn.preprocessing import normalize\n",
    "\n",
    "from vocab import Language, HelpDeskType\n",
    "from data import parse_labels"
   ]
  },
  {
   "cell_type": "code",
   "execution_count": 120,
   "metadata": {},
   "outputs": [],
   "source": [
    "bc = BertClient()"
   ]
  },
  {
   "cell_type": "code",
   "execution_count": 22,
   "metadata": {},
   "outputs": [],
   "source": [
    "def read_raw_data(data_dir, lang):\n",
    "    help_desks_train = {\n",
    "        \"CZ\": None,\n",
    "        \"DX\": None,\n",
    "        \"LT\": None,\n",
    "        \"OT\": None\n",
    "    }\n",
    "\n",
    "    help_desks_test = {\n",
    "        \"CZ\": None,\n",
    "        \"DX\": None,\n",
    "        \"LT\": None,\n",
    "        \"OT\": None\n",
    "    }\n",
    "    \n",
    "    if lang == Language.chinese:\n",
    "        for h in help_desks.keys():\n",
    "            with open(data_dir / \"train_data_cn_{}.json\".format(h), 'r', encoding=\"utf-8\") as train_fp:\n",
    "                help_desks_train[h] = json.load(train_fp)\n",
    "            with open(data_dir / \"test_data_cn_{}.json\".format(h), 'r', encoding=\"utf-8\") as test_fp:\n",
    "                help_desks_test[h] = json.load(test_fp)\n",
    "        return help_desks_train, help_desks_test"
   ]
  },
  {
   "cell_type": "code",
   "execution_count": 29,
   "metadata": {},
   "outputs": [],
   "source": [
    "def process_raw_data(raw_data, is_train):    \n",
    "    def data_gen():\n",
    "        for dialogue in raw_data:\n",
    "            senders = []\n",
    "            texts = []\n",
    "            for turn in dialogue[\"turns\"]:\n",
    "                sender = 1 if turn[\"sender\"].startswith(\"c\") else 0\n",
    "                senders.append(sender)\n",
    "                text = \" \".join(turn[\"utterances\"])\n",
    "                texts.append(text)\n",
    "                \n",
    "            if is_train:\n",
    "                customer_nugget_label, helpdesk_nugget_label, quality_label = \\\n",
    "                    parse_labels(dialogue[\"annotations\"], senders)\n",
    "                yield (dialogue[\"id\"],\n",
    "                       senders,\n",
    "                       texts,\n",
    "                       customer_nugget_label,\n",
    "                       helpdesk_nugget_label,\n",
    "                       quality_label)\n",
    "\n",
    "            else:\n",
    "                yield (dialogue[\"id\"],\n",
    "                       senders,\n",
    "                       texts)\n",
    "    data = [x for x in data_gen()]\n",
    "    return data"
   ]
  },
  {
   "cell_type": "code",
   "execution_count": 259,
   "metadata": {},
   "outputs": [],
   "source": [
    "data_dir = Path(\"stc3dataset/data\")\n",
    "output_dir = Path(\"output\")\n",
    "lang = Language.chinese\n",
    "help_desks_train, help_desks_test = read_raw_data(data_dir, lang)"
   ]
  },
  {
   "cell_type": "code",
   "execution_count": 37,
   "metadata": {},
   "outputs": [],
   "source": [
    "help_desks_train = {k: process_raw_data(v, True) for k, v in help_desks_train.items()}\n",
    "help_desks_test = {k: process_raw_data(v, False) for k, v in help_desks_test.items()}"
   ]
  },
  {
   "cell_type": "markdown",
   "metadata": {},
   "source": [
    "### No distinguishing helpdesks + BERT embedding + No context + XGBoost"
   ]
  },
  {
   "cell_type": "code",
   "execution_count": 298,
   "metadata": {},
   "outputs": [],
   "source": [
    "def split_to_c_and_h(df):\n",
    "    return df.loc[df[\"sender\"] == \"C\"], df.loc[df[\"sender\"] != \"C\"]\n",
    "\n",
    "def get_bert_embedding(df):\n",
    "    texts = df[\"text\"].to_list()\n",
    "    empty_indices = []\n",
    "    \n",
    "    # Fill empty string with 'EMPTY'\n",
    "    for i, t in enumerate(texts):\n",
    "        if not t.strip():\n",
    "            texts[i] = \"EMPTY\"\n",
    "            empty_indices.append(i)\n",
    "    \n",
    "    embeddings = bc.encode(texts).tolist()\n",
    "    \n",
    "    print(\"Empty indices:\", empty_indices)\n",
    "    \n",
    "    # Replace     \n",
    "    for i in empty_indices:\n",
    "        embeddings[i] = np.zeros((768,))\n",
    "        \n",
    "    return np.asarray(embeddings)\n",
    "\n",
    "def merge_c_and_h(df_test, c_test, h_test):\n",
    "    Y = df_test.groupby([\"id\"])[\"sender\"].apply(list).reset_index(name=\"senders\").to_dict(\"records\")\n",
    "    c_i = 0\n",
    "    h_i = 0\n",
    "    for i, dialogue in enumerate(Y):\n",
    "        Y[i][\"id\"] = str(Y[i][\"id\"])\n",
    "        Y[i][\"nugget\"] = []\n",
    "        for sender in dialogue[\"senders\"]:\n",
    "            if sender == \"C\":\n",
    "                c_probs = np.asarray([c_test[i][c_i] for i in range(len(c_test))])\n",
    "                c_probs = np.clip(c_probs, 0, 1)\n",
    "                c_probs = c_probs / c_probs.sum(axis=0, keepdims=1)\n",
    "                c_probs = c_probs.tolist()\n",
    "                Y[i][\"nugget\"].append({\n",
    "                    \"CNUG0\": c_probs[0],\n",
    "                    \"CNUG\": c_probs[1],\n",
    "                    \"CNUG*\": c_probs[2],\n",
    "                    \"CNaN\": c_probs[3]\n",
    "                })\n",
    "                c_i += 1\n",
    "            else:\n",
    "                h_probs = np.asarray([h_test[i][h_i] for i in range(len(h_test))])\n",
    "                h_probs = np.clip(h_probs, 0, 1)\n",
    "                h_probs = h_probs / h_probs.sum(axis=0, keepdims=1) \n",
    "                h_probs = h_probs.tolist()\n",
    "                Y[i][\"nugget\"].append({\n",
    "                    \"HNUG\": h_probs[0],\n",
    "                    \"HNUG*\": h_probs[1],\n",
    "                    \"HNaN\": h_probs[2]\n",
    "                })\n",
    "                h_i += 1\n",
    "    return Y\n",
    "\n",
    "def merge_c_and_h_cat(df_test, c_test, h_test):\n",
    "    Y = df_test.groupby([\"id\"])[\"sender\"].apply(list).reset_index(name=\"senders\").to_dict(\"records\")\n",
    "    c_i = 0\n",
    "    h_i = 0\n",
    "    for i, dialogue in enumerate(Y):\n",
    "        Y[i][\"id\"] = str(Y[i][\"id\"])\n",
    "        Y[i][\"nugget\"] = []\n",
    "        for sender in dialogue[\"senders\"]:\n",
    "            if sender == \"C\":\n",
    "                c_probs = c_test[c_i].tolist()\n",
    "                Y[i][\"nugget\"].append({\n",
    "                    \"CNUG0\": c_probs[0],\n",
    "                    \"CNUG\": c_probs[1],\n",
    "                    \"CNUG*\": c_probs[2],\n",
    "                    \"CNaN\": c_probs[3]\n",
    "                })\n",
    "                c_i += 1\n",
    "            else:\n",
    "                h_probs = h_test[h_i].tolist()\n",
    "                Y[i][\"nugget\"].append({\n",
    "                    \"HNUG\": h_probs[0],\n",
    "                    \"HNUG*\": h_probs[1],\n",
    "                    \"HNaN\": h_probs[2]\n",
    "                })\n",
    "                h_i += 1\n",
    "    return Y"
   ]
  },
  {
   "cell_type": "code",
   "execution_count": 93,
   "metadata": {},
   "outputs": [],
   "source": [
    "df_train = pd.read_csv(data_dir / \"df_train_cn.csv\", encoding=\"utf-8\").astype({'text': 'str'})\n",
    "df_test = pd.read_csv(data_dir / \"df_test_cn.csv\", encoding=\"utf-8\").astype({'text': 'str'})"
   ]
  },
  {
   "cell_type": "code",
   "execution_count": 130,
   "metadata": {},
   "outputs": [],
   "source": [
    "df_c_train, df_h_train = split_to_c_and_h(df_train)\n",
    "df_c_test, df_h_test = split_to_c_and_h(df_test)"
   ]
  },
  {
   "cell_type": "code",
   "execution_count": 95,
   "metadata": {},
   "outputs": [],
   "source": [
    "Y_h_train = df_h_train[[\"HNUG\", \"HNUG*\", \"HNaN\"]].values\n",
    "Y_c_train = df_c_train[[\"CNUG0\", \"CNUG\", \"CNUG*\", \"CNaN\"]].values"
   ]
  },
  {
   "cell_type": "code",
   "execution_count": 175,
   "metadata": {},
   "outputs": [
    {
     "data": {
      "text/plain": [
       "[{'id': 11792090486, 'sender': ['C', 'H', 'C', 'H']},\n",
       " {'id': 3413387629431837, 'sender': ['C', 'H', 'C']},\n",
       " {'id': 3418165109705159, 'sender': ['C', 'H']},\n",
       " {'id': 3453944166480384, 'sender': ['C', 'H', 'C', 'H', 'C', 'H', 'C']},\n",
       " {'id': 3470299011884270, 'sender': ['C', 'H', 'C']},\n",
       " {'id': 3476768847913440, 'sender': ['C', 'H', 'C', 'H']},\n",
       " {'id': 3476892810205149, 'sender': ['C', 'H', 'C', 'H', 'C', 'H', 'C']},\n",
       " {'id': 3481107607724044, 'sender': ['C', 'H', 'C', 'H']},\n",
       " {'id': 3512239052883466, 'sender': ['C', 'H', 'C', 'H', 'C', 'H']},\n",
       " {'id': 3517638892555263, 'sender': ['C', 'H', 'C', 'H', 'C', 'H']},\n",
       " {'id': 3522021549603724, 'sender': ['C', 'H', 'C', 'H', 'C', 'H']},\n",
       " {'id': 3525416431833226, 'sender': ['C', 'H', 'C']},\n",
       " {'id': 3526760035640177, 'sender': ['C', 'H', 'C', 'H']},\n",
       " {'id': 3532553799247835, 'sender': ['C', 'H', 'C']},\n",
       " {'id': 3536694176921874, 'sender': ['C', 'H', 'C', 'H']},\n",
       " {'id': 3539168950594478, 'sender': ['C', 'H', 'C']},\n",
       " {'id': 3542788094283808, 'sender': ['C', 'H', 'C']},\n",
       " {'id': 3548560546751286, 'sender': ['C', 'H']},\n",
       " {'id': 3554244269891521, 'sender': ['C', 'H']},\n",
       " {'id': 3554371718084795, 'sender': ['C', 'H']},\n",
       " {'id': 3555430418270443, 'sender': ['C', 'H', 'C', 'H', 'C', 'H']},\n",
       " {'id': 3560073857379119, 'sender': ['C', 'H', 'C', 'H']},\n",
       " {'id': 3560820204458802, 'sender': ['C', 'H', 'C', 'H', 'C', 'H']},\n",
       " {'id': 3565502322784134, 'sender': ['C', 'H', 'C', 'H', 'C', 'H', 'C']},\n",
       " {'id': 3572775236945213, 'sender': ['C', 'H', 'C']},\n",
       " {'id': 3574038770988805, 'sender': ['C', 'H', 'C']},\n",
       " {'id': 3575941147776865, 'sender': ['C', 'H', 'C']},\n",
       " {'id': 3577872272575100, 'sender': ['C', 'H', 'C', 'H']},\n",
       " {'id': 3578339530973089, 'sender': ['C', 'H']},\n",
       " {'id': 3587662315632636, 'sender': ['C', 'H', 'C', 'H', 'C', 'H']},\n",
       " {'id': 3590332534845032, 'sender': ['C', 'H', 'C', 'H', 'C', 'H']},\n",
       " {'id': 3593855783724150, 'sender': ['C', 'H']},\n",
       " {'id': 3595238251995469, 'sender': ['C', 'H', 'C', 'H', 'C']},\n",
       " {'id': 3598920728656718, 'sender': ['C', 'H', 'C', 'H', 'C', 'H', 'C']},\n",
       " {'id': 3599965261956286, 'sender': ['C', 'H', 'C']},\n",
       " {'id': 3600436659601000, 'sender': ['C', 'H', 'C', 'H', 'C', 'H']},\n",
       " {'id': 3606797308873935, 'sender': ['C', 'H', 'C', 'H']},\n",
       " {'id': 3610183202363151, 'sender': ['C', 'H']},\n",
       " {'id': 3610197115051038, 'sender': ['C', 'H']},\n",
       " {'id': 3622094619700594, 'sender': ['C', 'H', 'C', 'H', 'C', 'H']},\n",
       " {'id': 3623620879872634, 'sender': ['C', 'H', 'C', 'H']},\n",
       " {'id': 3623635279875356, 'sender': ['C', 'H', 'C', 'H']},\n",
       " {'id': 3626843729416100, 'sender': ['C', 'H', 'C', 'H', 'C']},\n",
       " {'id': 3626920551738409, 'sender': ['C', 'H']},\n",
       " {'id': 3635105191301749, 'sender': ['C', 'H', 'C', 'H']},\n",
       " {'id': 3639139179756559, 'sender': ['C', 'H', 'C', 'H', 'C', 'H', 'C']},\n",
       " {'id': 3639838433994266, 'sender': ['C', 'H']},\n",
       " {'id': 3645584000628651, 'sender': ['C', 'H']},\n",
       " {'id': 3651119785852764, 'sender': ['C', 'H', 'C', 'H']},\n",
       " {'id': 3652824510840990, 'sender': ['C', 'H', 'C']},\n",
       " {'id': 3659774300472789, 'sender': ['C', 'H']},\n",
       " {'id': 3663184819022212, 'sender': ['C', 'H', 'C', 'H']},\n",
       " {'id': 3667681716280801, 'sender': ['C', 'H']},\n",
       " {'id': 3670008993717977, 'sender': ['C', 'H', 'C', 'H', 'C', 'H', 'C']},\n",
       " {'id': 3673549116378882, 'sender': ['C', 'H', 'C']},\n",
       " {'id': 3675432954483271, 'sender': ['C', 'H', 'C', 'H', 'C', 'H', 'C']},\n",
       " {'id': 3685243040737360, 'sender': ['C', 'H', 'C', 'H', 'C', 'H', 'C']},\n",
       " {'id': 3692116154571619, 'sender': ['C', 'H', 'C', 'H', 'C', 'H']},\n",
       " {'id': 3693540296984662, 'sender': ['C', 'H', 'C', 'H', 'C', 'H']},\n",
       " {'id': 3694970856480973, 'sender': ['C', 'H', 'C', 'H', 'C', 'H', 'C']},\n",
       " {'id': 3700679681716136, 'sender': ['C', 'H', 'C', 'H']},\n",
       " {'id': 3714818714382995, 'sender': ['C', 'H', 'C', 'H', 'C', 'H']},\n",
       " {'id': 3714971823289665, 'sender': ['C', 'H', 'C', 'H', 'C', 'H']},\n",
       " {'id': 3716953908380961, 'sender': ['C', 'H', 'C']},\n",
       " {'id': 3718912216646049, 'sender': ['C', 'H', 'C', 'H']},\n",
       " {'id': 3730481788894680, 'sender': ['C', 'H', 'C']},\n",
       " {'id': 3731951007942910, 'sender': ['C', 'H', 'C', 'H', 'C', 'H']},\n",
       " {'id': 3738359576398538, 'sender': ['C', 'H']},\n",
       " {'id': 3740612438602596, 'sender': ['C', 'H']},\n",
       " {'id': 3747099613045398, 'sender': ['C', 'H', 'C']},\n",
       " {'id': 3748873702923912, 'sender': ['C', 'H', 'C']},\n",
       " {'id': 3754307059304911, 'sender': ['C', 'H', 'C']},\n",
       " {'id': 3755477693024505, 'sender': ['C', 'H', 'C']},\n",
       " {'id': 3755582206517947, 'sender': ['C', 'H']},\n",
       " {'id': 3759038376462580, 'sender': ['C', 'H', 'C']},\n",
       " {'id': 3760046301088017, 'sender': ['C', 'H', 'C']},\n",
       " {'id': 3764532213817019, 'sender': ['C', 'H', 'C']},\n",
       " {'id': 3766446310189336, 'sender': ['C', 'H', 'C', 'H', 'C']},\n",
       " {'id': 3768540379692766, 'sender': ['C', 'H', 'C', 'H']},\n",
       " {'id': 3771829359418836, 'sender': ['C', 'H']},\n",
       " {'id': 3774492340078678, 'sender': ['C', 'H', 'C', 'H']},\n",
       " {'id': 3775892440399904, 'sender': ['C', 'H']},\n",
       " {'id': 3777859678345451, 'sender': ['C', 'H', 'C']},\n",
       " {'id': 3781195274142895, 'sender': ['C', 'H', 'C']},\n",
       " {'id': 3781995669035951, 'sender': ['C', 'H', 'C', 'H', 'C', 'H', 'C']},\n",
       " {'id': 3782529536386965, 'sender': ['C', 'H', 'C', 'H', 'C']},\n",
       " {'id': 3782704066107181, 'sender': ['C', 'H', 'C']},\n",
       " {'id': 3786282549510907, 'sender': ['C', 'H', 'C', 'H']},\n",
       " {'id': 3786677996271452, 'sender': ['C', 'H', 'C']},\n",
       " {'id': 3787426159483132, 'sender': ['C', 'H', 'C', 'H', 'C']},\n",
       " {'id': 3789298845556342, 'sender': ['C', 'H']},\n",
       " {'id': 3789435626027083, 'sender': ['C', 'H', 'C', 'H', 'C', 'H', 'C']},\n",
       " {'id': 3793505585877792, 'sender': ['C', 'H', 'C', 'H', 'C', 'H']},\n",
       " {'id': 3793536816720988, 'sender': ['C', 'H', 'C', 'H']},\n",
       " {'id': 3799443516369176, 'sender': ['C', 'H', 'C', 'H']},\n",
       " {'id': 3801575216885972, 'sender': ['C', 'H', 'C', 'H']},\n",
       " {'id': 3802161144120242, 'sender': ['C', 'H', 'C', 'H', 'C', 'H']},\n",
       " {'id': 3803031563016821, 'sender': ['C', 'H', 'C', 'H']},\n",
       " {'id': 3803204347402459, 'sender': ['C', 'H', 'C', 'H', 'C', 'H', 'C']},\n",
       " {'id': 3803595747287874, 'sender': ['C', 'H']},\n",
       " {'id': 3804383832045677, 'sender': ['C', 'H', 'C', 'H', 'C']},\n",
       " {'id': 3804432846487291, 'sender': ['C', 'H']},\n",
       " {'id': 3807194023748112, 'sender': ['C', 'H', 'C']},\n",
       " {'id': 3808493813609326, 'sender': ['C', 'H', 'C', 'H', 'C', 'H', 'C']},\n",
       " {'id': 3808831690061771, 'sender': ['C', 'H']},\n",
       " {'id': 3809177111675645, 'sender': ['C', 'H', 'C', 'H', 'C', 'H']},\n",
       " {'id': 3809843373040280, 'sender': ['C', 'H']},\n",
       " {'id': 3810935262967728, 'sender': ['C', 'H', 'C', 'H', 'C', 'H']},\n",
       " {'id': 3811979145334108, 'sender': ['C', 'H', 'C']},\n",
       " {'id': 3812667691358678, 'sender': ['C', 'H', 'C', 'H']},\n",
       " {'id': 3815019219446627, 'sender': ['C', 'H', 'C', 'H']},\n",
       " {'id': 3816613218365931, 'sender': ['C', 'H', 'C', 'H', 'C', 'H']},\n",
       " {'id': 3816716712731131, 'sender': ['C', 'H', 'C', 'H', 'C', 'H', 'C']},\n",
       " {'id': 3819185371067771, 'sender': ['C', 'H', 'C', 'H', 'C', 'H']},\n",
       " {'id': 3820978889001731, 'sender': ['C', 'H']},\n",
       " {'id': 3821851400815019, 'sender': ['C', 'H', 'C']},\n",
       " {'id': 3822208407030978, 'sender': ['C', 'H', 'C', 'H']},\n",
       " {'id': 3822586650143107, 'sender': ['C', 'H', 'C', 'H', 'C', 'H']},\n",
       " {'id': 3825046810242194, 'sender': ['C', 'H', 'C']},\n",
       " {'id': 3825382455672223, 'sender': ['C', 'H']},\n",
       " {'id': 3825728733291292, 'sender': ['C', 'H', 'C']},\n",
       " {'id': 3828048560362320, 'sender': ['C', 'H', 'C']},\n",
       " {'id': 3828681900092062, 'sender': ['C', 'H', 'C', 'H', 'C', 'H', 'C']},\n",
       " {'id': 3829281812040286, 'sender': ['C', 'H']},\n",
       " {'id': 3829368109448859, 'sender': ['C', 'H', 'C', 'H']},\n",
       " {'id': 3829843001137483, 'sender': ['C', 'H', 'C']},\n",
       " {'id': 3829867882130202, 'sender': ['C', 'H']},\n",
       " {'id': 3831823769136250, 'sender': ['C', 'H', 'C', 'H', 'C', 'H']},\n",
       " {'id': 3831890622907617, 'sender': ['C', 'H', 'C']},\n",
       " {'id': 3833761151852324, 'sender': ['C', 'H', 'C', 'H', 'C', 'H']},\n",
       " {'id': 3834387428631506, 'sender': ['C', 'H', 'C']},\n",
       " {'id': 3834765063477357, 'sender': ['C', 'H', 'C', 'H', 'C', 'H']},\n",
       " {'id': 3834873678442069, 'sender': ['C', 'H', 'C']},\n",
       " {'id': 3835661037783858, 'sender': ['C', 'H']},\n",
       " {'id': 3836557276821054, 'sender': ['C', 'H', 'C', 'H', 'C', 'H']},\n",
       " {'id': 3836924639066650, 'sender': ['C', 'H', 'C', 'H', 'C', 'H']},\n",
       " {'id': 3840634517809233, 'sender': ['C', 'H', 'C', 'H', 'C', 'H']},\n",
       " {'id': 3842023444704376, 'sender': ['C', 'H', 'C']},\n",
       " {'id': 3842394007272991, 'sender': ['C', 'H', 'C', 'H', 'C', 'H', 'C']},\n",
       " {'id': 3844382417807241, 'sender': ['C', 'H', 'C']},\n",
       " {'id': 3844978478666551, 'sender': ['C', 'H', 'C', 'H', 'C', 'H', 'C']},\n",
       " {'id': 3845272654730096, 'sender': ['C', 'H', 'C', 'H']},\n",
       " {'id': 3846279144682764, 'sender': ['C', 'H', 'C']},\n",
       " {'id': 3846732570022169, 'sender': ['C', 'H', 'C', 'H', 'C', 'H']},\n",
       " {'id': 3848972026478415, 'sender': ['C', 'H', 'C', 'H', 'C', 'H']},\n",
       " {'id': 3849025113742446, 'sender': ['C', 'H']},\n",
       " {'id': 3849312264071011, 'sender': ['C', 'H', 'C']},\n",
       " {'id': 3850365923254701, 'sender': ['C', 'H']},\n",
       " {'id': 3851108517079085, 'sender': ['C', 'H']},\n",
       " {'id': 3852499775581683, 'sender': ['C', 'H', 'C', 'H']},\n",
       " {'id': 3861627206200046, 'sender': ['C', 'H']},\n",
       " {'id': 3862062281675325, 'sender': ['C', 'H']},\n",
       " {'id': 3862603493152246, 'sender': ['C', 'H', 'C', 'H', 'C', 'H', 'C']},\n",
       " {'id': 3864503135524202, 'sender': ['C', 'H', 'C', 'H', 'C', 'H', 'C']},\n",
       " {'id': 3867821849537041, 'sender': ['C', 'H']},\n",
       " {'id': 3867897661328286, 'sender': ['C', 'H', 'C', 'H', 'C', 'H', 'C']},\n",
       " {'id': 3868959822339607, 'sender': ['C', 'H', 'C', 'H', 'C', 'H']},\n",
       " {'id': 3872480668077563, 'sender': ['C', 'H', 'C']},\n",
       " {'id': 3874241579867971, 'sender': ['C', 'H', 'C']},\n",
       " {'id': 3875125134536439, 'sender': ['C', 'H', 'C']},\n",
       " {'id': 3876808720396565, 'sender': ['C', 'H']},\n",
       " {'id': 3877928359740635, 'sender': ['C', 'H', 'C', 'H', 'C', 'H', 'C']},\n",
       " {'id': 3883556789223029, 'sender': ['C', 'H']},\n",
       " {'id': 3884050253522320, 'sender': ['C', 'H', 'C']},\n",
       " {'id': 3887345914888849, 'sender': ['C', 'H', 'C', 'H', 'C', 'H', 'C']},\n",
       " {'id': 3889562927448972, 'sender': ['C', 'H', 'C', 'H', 'C', 'H', 'C']},\n",
       " {'id': 3889986434893062, 'sender': ['C', 'H', 'C', 'H', 'C', 'H', 'C']},\n",
       " {'id': 3890370926153127, 'sender': ['C', 'H']},\n",
       " {'id': 3905854363660370, 'sender': ['C', 'H', 'C', 'H']},\n",
       " {'id': 3906308417819163, 'sender': ['C', 'H', 'C', 'H', 'C', 'H']},\n",
       " {'id': 3907246868089806, 'sender': ['C', 'H', 'C', 'H']},\n",
       " {'id': 3907271152645879, 'sender': ['C', 'H']},\n",
       " {'id': 3908762395567282, 'sender': ['C', 'H', 'C']},\n",
       " {'id': 3908793865664477, 'sender': ['C', 'H', 'C', 'H', 'C', 'H']},\n",
       " {'id': 3913838749091727, 'sender': ['C', 'H']},\n",
       " {'id': 3915182604172037, 'sender': ['C', 'H', 'C', 'H']},\n",
       " {'id': 3916350949067441, 'sender': ['C', 'H', 'C', 'H']},\n",
       " {'id': 3919715665593500, 'sender': ['C', 'H', 'C']},\n",
       " {'id': 3926128702280690, 'sender': ['C', 'H', 'C', 'H', 'C', 'H', 'C']},\n",
       " {'id': 3926256229298112, 'sender': ['C', 'H', 'C', 'H', 'C', 'H', 'C']},\n",
       " {'id': 3926803405965786, 'sender': ['C', 'H']},\n",
       " {'id': 3927169241598173, 'sender': ['C', 'H', 'C', 'H']},\n",
       " {'id': 3934038866111310, 'sender': ['C', 'H', 'C', 'H']},\n",
       " {'id': 3938125489261217, 'sender': ['C', 'H', 'C', 'H']},\n",
       " {'id': 3944768482398385, 'sender': ['C', 'H', 'C', 'H', 'C', 'H']},\n",
       " {'id': 3948538470291423, 'sender': ['C', 'H', 'C']},\n",
       " {'id': 3949228965327318, 'sender': ['C', 'H', 'C', 'H']},\n",
       " {'id': 3950703690724369, 'sender': ['C', 'H']},\n",
       " {'id': 3951199650962483, 'sender': ['C', 'H']},\n",
       " {'id': 3952324063474435, 'sender': ['C', 'H', 'C', 'H']},\n",
       " {'id': 3955159908365412, 'sender': ['C', 'H', 'C', 'H', 'C', 'H', 'C']},\n",
       " {'id': 3955209694709263, 'sender': ['C', 'H']},\n",
       " {'id': 3955985481197385, 'sender': ['C', 'H', 'C', 'H', 'C', 'H']},\n",
       " {'id': 3956269603363973, 'sender': ['C', 'H', 'C', 'H']},\n",
       " {'id': 3956332086247685, 'sender': ['C', 'H', 'C', 'H', 'C']},\n",
       " {'id': 3958775204902521, 'sender': ['C', 'H', 'C']},\n",
       " {'id': 3960978451862307, 'sender': ['C', 'H', 'C', 'H', 'C', 'H', 'C']},\n",
       " {'id': 3963335864940544, 'sender': ['C', 'H', 'C', 'H']},\n",
       " {'id': 3963799520100392, 'sender': ['C', 'H', 'C', 'H', 'C', 'H', 'C']},\n",
       " {'id': 3964108556098134, 'sender': ['C', 'H', 'C', 'H', 'C', 'H']},\n",
       " {'id': 3965041341078954, 'sender': ['C', 'H', 'C', 'H', 'C', 'H', 'C']},\n",
       " {'id': 3968177795001697, 'sender': ['C', 'H']},\n",
       " {'id': 3970715911227972, 'sender': ['C', 'H', 'C']},\n",
       " {'id': 3972229676995092, 'sender': ['C', 'H', 'C', 'H', 'C', 'H', 'C']},\n",
       " {'id': 3972884353013051, 'sender': ['C', 'H', 'C', 'H']},\n",
       " {'id': 3980067338393709, 'sender': ['C', 'H', 'C', 'H', 'C', 'H', 'C']},\n",
       " {'id': 3992069817088984, 'sender': ['C', 'H']},\n",
       " {'id': 3992198746264264, 'sender': ['C', 'H', 'C']},\n",
       " {'id': 3994233775579414, 'sender': ['C', 'H', 'C', 'H']},\n",
       " {'id': 3994714904540215, 'sender': ['C', 'H', 'C']},\n",
       " {'id': 3997616767822908, 'sender': ['C', 'H', 'C', 'H', 'C', 'H', 'C']},\n",
       " {'id': 3999610244024757, 'sender': ['C', 'H', 'C', 'H', 'C', 'H']},\n",
       " {'id': 4002355349886816, 'sender': ['C', 'H', 'C', 'H']},\n",
       " {'id': 4002557929649591, 'sender': ['C', 'H']},\n",
       " {'id': 4003013213425389, 'sender': ['C', 'H', 'C']},\n",
       " {'id': 4004885068113649, 'sender': ['C', 'H', 'C', 'H']},\n",
       " {'id': 4007278904538677, 'sender': ['C', 'H', 'C', 'H', 'C', 'H']},\n",
       " {'id': 4008126905151122, 'sender': ['C', 'H', 'C', 'H', 'C', 'H']},\n",
       " {'id': 4008461635047858, 'sender': ['C', 'H']},\n",
       " {'id': 4008722411773457, 'sender': ['C', 'H', 'C']},\n",
       " {'id': 4009856073374746, 'sender': ['C', 'H', 'C', 'H', 'C', 'H']},\n",
       " {'id': 4010160806597846, 'sender': ['C', 'H', 'C']},\n",
       " {'id': 4012307069771000, 'sender': ['C', 'H', 'C']},\n",
       " {'id': 4013401988125952, 'sender': ['C', 'H', 'C']},\n",
       " {'id': 4016731338518342, 'sender': ['C', 'H', 'C', 'H']},\n",
       " {'id': 4020447148043402, 'sender': ['C', 'H', 'C', 'H', 'C', 'H']},\n",
       " {'id': 4022842192155296, 'sender': ['C', 'H', 'C', 'H', 'C', 'H', 'C']},\n",
       " {'id': 4023975133293673, 'sender': ['C', 'H', 'C', 'H', 'C', 'H', 'C']},\n",
       " {'id': 4024243354231598, 'sender': ['C', 'H']},\n",
       " {'id': 4024780778216350, 'sender': ['C', 'H', 'C', 'H', 'C', 'H']},\n",
       " {'id': 4024994788689457, 'sender': ['C', 'H', 'C', 'H', 'C']},\n",
       " {'id': 4025421198056599, 'sender': ['C', 'H', 'C', 'H', 'C']},\n",
       " {'id': 4026848273252638, 'sender': ['C', 'H', 'C', 'H', 'C', 'H', 'C']},\n",
       " {'id': 4029403354869032, 'sender': ['C', 'H', 'C', 'H', 'C', 'H']},\n",
       " {'id': 4034949453044627, 'sender': ['C', 'H']},\n",
       " {'id': 4035225003017138, 'sender': ['C', 'H', 'C', 'H']},\n",
       " {'id': 4036618400102210, 'sender': ['C', 'H', 'C', 'H', 'C', 'H']},\n",
       " {'id': 4039261235736943, 'sender': ['C', 'H', 'C', 'H']},\n",
       " {'id': 4041901721979415, 'sender': ['C', 'H', 'C']},\n",
       " {'id': 4043240536022006, 'sender': ['C', 'H', 'C', 'H', 'C']},\n",
       " {'id': 4046356639081768, 'sender': ['C', 'H']},\n",
       " {'id': 4049755295968214, 'sender': ['C', 'H', 'C', 'H', 'C', 'H', 'C']},\n",
       " {'id': 4053730477868155, 'sender': ['C', 'H']},\n",
       " {'id': 4054304291433421, 'sender': ['C', 'H', 'C', 'H', 'C']},\n",
       " {'id': 4058384502606607, 'sender': ['C', 'H']},\n",
       " {'id': 4059161753539505, 'sender': ['C', 'H', 'C', 'H', 'C', 'H']},\n",
       " {'id': 4060344370495074, 'sender': ['C', 'H', 'C']},\n",
       " {'id': 4060892825611272, 'sender': ['C', 'H', 'C', 'H', 'C', 'H']},\n",
       " {'id': 4063110543890623, 'sender': ['C', 'H', 'C', 'H', 'C']},\n",
       " {'id': 4065520364317024, 'sender': ['C', 'H', 'C']},\n",
       " {'id': 4066926596825429, 'sender': ['C', 'H', 'C', 'H']},\n",
       " {'id': 4067409395148603, 'sender': ['C', 'H', 'C', 'H', 'C']},\n",
       " {'id': 4068609837968055, 'sender': ['C', 'H']},\n",
       " {'id': 4069326380859083, 'sender': ['C', 'H', 'C', 'H', 'C', 'H', 'C']},\n",
       " {'id': 4069330146250009, 'sender': ['C', 'H', 'C', 'H', 'C', 'H']},\n",
       " {'id': 4073589462279244, 'sender': ['C', 'H', 'C', 'H', 'C', 'H', 'C']},\n",
       " {'id': 4073972381437384, 'sender': ['C', 'H', 'C', 'H', 'C']},\n",
       " {'id': 4077639595523085, 'sender': ['C', 'H']},\n",
       " {'id': 4079388452755871, 'sender': ['C', 'H', 'C', 'H', 'C']},\n",
       " {'id': 4079542001558440, 'sender': ['C', 'H', 'C', 'H', 'C', 'H', 'C']},\n",
       " {'id': 4079550382021536, 'sender': ['C', 'H', 'C', 'H', 'C', 'H']},\n",
       " {'id': 4080949546864041, 'sender': ['C', 'H', 'C', 'H', 'C']},\n",
       " {'id': 4087725072495834, 'sender': ['C', 'H', 'C']},\n",
       " {'id': 4087734228359701, 'sender': ['C', 'H', 'C', 'H', 'C']},\n",
       " {'id': 4088455418475384, 'sender': ['C', 'H', 'C', 'H', 'C']},\n",
       " {'id': 4090028386989823, 'sender': ['C', 'H', 'C', 'H', 'C', 'H', 'C']},\n",
       " {'id': 4090621956054536, 'sender': ['C', 'H', 'C', 'H']},\n",
       " {'id': 4091277618515823, 'sender': ['C', 'H', 'C', 'H', 'C', 'H', 'C']},\n",
       " {'id': 4094111734607022, 'sender': ['C', 'H', 'C', 'H']},\n",
       " {'id': 4094209810335722, 'sender': ['C', 'H', 'C', 'H', 'C']},\n",
       " {'id': 4095409889100831, 'sender': ['C', 'H', 'C', 'H', 'C', 'H', 'C']},\n",
       " {'id': 4099105854711744, 'sender': ['C', 'H']},\n",
       " {'id': 4102696681696751, 'sender': ['C', 'H', 'C', 'H', 'C', 'H']},\n",
       " {'id': 4106893935333575, 'sender': ['C', 'H', 'C', 'H', 'C', 'H', 'C']},\n",
       " {'id': 4107994587508076, 'sender': ['C', 'H', 'C', 'H', 'C', 'H']},\n",
       " {'id': 4108340957800126, 'sender': ['C', 'H', 'C', 'H', 'C', 'H', 'C']},\n",
       " {'id': 4108373898873397, 'sender': ['C', 'H', 'C', 'H', 'C']},\n",
       " {'id': 4112104343138661, 'sender': ['C', 'H', 'C', 'H', 'C']},\n",
       " {'id': 4115328914590950, 'sender': ['C', 'H', 'C', 'H']},\n",
       " {'id': 4121001149457182, 'sender': ['C', 'H', 'C', 'H', 'C', 'H', 'C']},\n",
       " {'id': 4122503367901593, 'sender': ['C', 'H', 'C', 'H', 'C']},\n",
       " {'id': 4123631946721258, 'sender': ['C', 'H', 'C', 'H']},\n",
       " {'id': 4124823380940810, 'sender': ['C', 'H', 'C', 'H', 'C']},\n",
       " {'id': 4125483496889457, 'sender': ['C', 'H', 'C', 'H', 'C', 'H']},\n",
       " {'id': 4129381108081751, 'sender': ['C', 'H']},\n",
       " {'id': 4130607728257484, 'sender': ['C', 'H']},\n",
       " {'id': 4130917133380168, 'sender': ['C', 'H', 'C', 'H']},\n",
       " {'id': 4132444007180169, 'sender': ['C', 'H', 'C', 'H', 'C']},\n",
       " {'id': 4133385519090155, 'sender': ['C', 'H', 'C', 'H', 'C']},\n",
       " {'id': 4133415991143189, 'sender': ['C', 'H', 'C', 'H']},\n",
       " {'id': 4135260461193315, 'sender': ['C', 'H', 'C', 'H', 'C', 'H']},\n",
       " {'id': 4135738960691360, 'sender': ['C', 'H', 'C', 'H', 'C']},\n",
       " {'id': 4136292722007598, 'sender': ['C', 'H', 'C', 'H', 'C', 'H']},\n",
       " {'id': 4136604979135705, 'sender': ['C', 'H', 'C', 'H']},\n",
       " {'id': 4141434028623176, 'sender': ['C', 'H', 'C', 'H']},\n",
       " {'id': 4141551145573465, 'sender': ['C', 'H']},\n",
       " {'id': 4146458518948917, 'sender': ['C', 'H', 'C', 'H', 'C', 'H']},\n",
       " {'id': 4147106442462009, 'sender': ['C', 'H', 'C']},\n",
       " {'id': 4148412544803336, 'sender': ['C', 'H', 'C']},\n",
       " {'id': 4149091275267452, 'sender': ['C', 'H', 'C', 'H', 'C']},\n",
       " {'id': 4149503734811391, 'sender': ['C', 'H', 'C', 'H', 'C']},\n",
       " {'id': 4149714263541660, 'sender': ['C', 'H', 'C', 'H', 'C']},\n",
       " {'id': 4150854766192838, 'sender': ['C', 'H', 'C', 'H', 'C']},\n",
       " {'id': 4152188299189065, 'sender': ['C', 'H', 'C', 'H', 'C']},\n",
       " {'id': 4152241339822272, 'sender': ['C', 'H', 'C', 'H', 'C', 'H', 'C']},\n",
       " {'id': 4152973095423456, 'sender': ['C', 'H', 'C', 'H', 'C']},\n",
       " {'id': 4153831606558309, 'sender': ['C', 'H', 'C']},\n",
       " {'id': 4155866380275892, 'sender': ['C', 'H', 'C', 'H', 'C', 'H', 'C']},\n",
       " {'id': 4156229766374281, 'sender': ['C', 'H', 'C', 'H', 'C', 'H', 'C']},\n",
       " {'id': 4156644650179706, 'sender': ['C', 'H', 'C', 'H', 'C']},\n",
       " {'id': 4156711205992161, 'sender': ['C', 'H', 'C', 'H', 'C']},\n",
       " {'id': 4156900955836569, 'sender': ['C', 'H', 'C', 'H', 'C', 'H', 'C']},\n",
       " {'id': 4157278477060400, 'sender': ['C', 'H', 'C', 'H', 'C', 'H', 'C']},\n",
       " {'id': 4157762658933244, 'sender': ['C', 'H', 'C', 'H', 'C']},\n",
       " {'id': 4161227054180203, 'sender': ['C', 'H', 'C', 'H']},\n",
       " {'id': 4161593627147752, 'sender': ['C', 'H', 'C', 'H', 'C']},\n",
       " {'id': 4161764277320591, 'sender': ['C', 'H', 'C', 'H', 'C', 'H', 'C']},\n",
       " {'id': 4163884346538112, 'sender': ['C', 'H', 'C', 'H', 'C']},\n",
       " {'id': 4164589686423992, 'sender': ['C', 'H', 'C']},\n",
       " {'id': 4165579365808192, 'sender': ['C', 'H', 'C', 'H', 'C', 'H']},\n",
       " {'id': 4166675223883067, 'sender': ['C', 'H', 'C']},\n",
       " {'id': 4167377174031311, 'sender': ['C', 'H', 'C', 'H', 'C']},\n",
       " {'id': 4168329289341738, 'sender': ['C', 'H', 'C', 'H', 'C']},\n",
       " {'id': 4169556459153787, 'sender': ['C', 'H', 'C', 'H', 'C', 'H']},\n",
       " {'id': 4169932062654032, 'sender': ['C', 'H', 'C', 'H', 'C', 'H']},\n",
       " {'id': 4170708147859382, 'sender': ['C', 'H', 'C', 'H']},\n",
       " {'id': 4173187002796867, 'sender': ['C', 'H']},\n",
       " {'id': 4177373710217767, 'sender': ['C', 'H', 'C', 'H', 'C']},\n",
       " {'id': 4178461544774255, 'sender': ['C', 'H']},\n",
       " {'id': 4180891200581891, 'sender': ['C', 'H', 'C', 'H', 'C']},\n",
       " {'id': 4181918142457583, 'sender': ['C', 'H', 'C', 'H', 'C']},\n",
       " {'id': 4181990561041725, 'sender': ['C', 'H', 'C', 'H', 'C', 'H']},\n",
       " {'id': 4182712611153941, 'sender': ['C', 'H', 'C', 'H', 'C', 'H']},\n",
       " {'id': 4186043324971365, 'sender': ['C', 'H', 'C', 'H', 'C', 'H']},\n",
       " {'id': 4191790996793858, 'sender': ['C', 'H', 'C', 'H']},\n",
       " {'id': 4192571184024839, 'sender': ['C', 'H', 'C', 'H', 'C']},\n",
       " {'id': 4196951656464431, 'sender': ['C', 'H', 'C', 'H', 'C']},\n",
       " {'id': 4200268717908095, 'sender': ['C', 'H', 'C', 'H', 'C']},\n",
       " {'id': 4204085940936609, 'sender': ['C', 'H']},\n",
       " {'id': 4205840107796224, 'sender': ['C', 'H', 'C', 'H', 'C', 'H', 'C']},\n",
       " {'id': 4207410828519412, 'sender': ['C', 'H', 'C', 'H', 'C']},\n",
       " {'id': 4207453434212744, 'sender': ['C', 'H', 'C', 'H', 'C', 'H', 'C']},\n",
       " {'id': 4209043075126767, 'sender': ['C', 'H', 'C', 'H', 'C', 'H']},\n",
       " {'id': 4209924781874478, 'sender': ['C', 'H', 'C', 'H', 'C', 'H', 'C']},\n",
       " {'id': 4210023888164273, 'sender': ['C', 'H', 'C', 'H']},\n",
       " {'id': 4210142285012812, 'sender': ['C', 'H', 'C', 'H', 'C', 'H']},\n",
       " {'id': 4210682784213698, 'sender': ['C', 'H', 'C', 'H', 'C', 'H', 'C']},\n",
       " {'id': 4211405613394373, 'sender': ['C', 'H', 'C', 'H', 'C']},\n",
       " {'id': 4211647629995019, 'sender': ['C', 'H', 'C', 'H', 'C', 'H', 'C']},\n",
       " {'id': 4212322991872175, 'sender': ['C', 'H', 'C', 'H', 'C']},\n",
       " {'id': 4214664928093552, 'sender': ['C', 'H', 'C', 'H', 'C', 'H', 'C']},\n",
       " {'id': 4215320840810938, 'sender': ['C', 'H', 'C', 'H', 'C']},\n",
       " {'id': 4216703431016880, 'sender': ['C', 'H', 'C', 'H', 'C']},\n",
       " {'id': 4216874289889335, 'sender': ['C', 'H']},\n",
       " {'id': 4217050500777042, 'sender': ['C', 'H', 'C', 'H', 'C']},\n",
       " {'id': 4217894759777453, 'sender': ['C', 'H', 'C', 'H', 'C']},\n",
       " {'id': 4218660354577596, 'sender': ['C', 'H', 'C', 'H', 'C', 'H', 'C']},\n",
       " {'id': 4218854920336559, 'sender': ['C', 'H', 'C', 'H']},\n",
       " {'id': 4219436833217342, 'sender': ['C', 'H']},\n",
       " {'id': 4220041064492658, 'sender': ['C', 'H', 'C', 'H', 'C']},\n",
       " {'id': 4220489154580263, 'sender': ['C', 'H', 'C', 'H', 'C']},\n",
       " {'id': 4220685662368080, 'sender': ['C', 'H', 'C', 'H', 'C']},\n",
       " {'id': 4221038969605399, 'sender': ['C', 'H', 'C', 'H', 'C']},\n",
       " {'id': 4221407908748613, 'sender': ['C', 'H', 'C', 'H', 'C', 'H']},\n",
       " {'id': 4221465400777993, 'sender': ['C', 'H', 'C', 'H', 'C', 'H']},\n",
       " {'id': 4221836747009055, 'sender': ['C', 'H', 'C', 'H', 'C']},\n",
       " {'id': 4223206413837842, 'sender': ['C', 'H', 'C', 'H']},\n",
       " {'id': 4223642173400176, 'sender': ['C', 'H', 'C', 'H']},\n",
       " {'id': 4223723919491143, 'sender': ['C', 'H', 'C', 'H', 'C']},\n",
       " {'id': 4224016283959275, 'sender': ['C', 'H']},\n",
       " {'id': 4224817022759822, 'sender': ['C', 'H', 'C', 'H', 'C']},\n",
       " {'id': 4225559267611630, 'sender': ['C', 'H']},\n",
       " {'id': 4226565858151376, 'sender': ['C', 'H', 'C', 'H', 'C', 'H', 'C']},\n",
       " {'id': 4227729258237823, 'sender': ['C', 'H', 'C', 'H']},\n",
       " {'id': 4228019906052415, 'sender': ['C', 'H', 'C', 'H', 'C', 'H', 'C']},\n",
       " {'id': 4228304828908755, 'sender': ['C', 'H', 'C']},\n",
       " {'id': 4228567921429075, 'sender': ['C', 'H', 'C', 'H', 'C']},\n",
       " {'id': 4228706065049719, 'sender': ['C', 'H', 'C', 'H', 'C']},\n",
       " {'id': 4228745059319600, 'sender': ['C', 'H', 'C', 'H', 'C', 'H']},\n",
       " {'id': 4229077969388946, 'sender': ['C', 'H', 'C', 'H']},\n",
       " {'id': 4229359679682406, 'sender': ['C', 'H', 'C', 'H', 'C', 'H', 'C']},\n",
       " {'id': 4229453989281745, 'sender': ['C', 'H', 'C', 'H']},\n",
       " {'id': 4229802662028408, 'sender': ['C', 'H', 'C', 'H', 'C', 'H', 'C']},\n",
       " {'id': 4230898565609970, 'sender': ['C', 'H', 'C', 'H', 'C']},\n",
       " {'id': 4230955466585544, 'sender': ['C', 'H', 'C', 'H', 'C']},\n",
       " {'id': 4231853198745520, 'sender': ['C', 'H', 'C', 'H', 'C', 'H']},\n",
       " {'id': 4232672933535868, 'sender': ['C', 'H', 'C', 'H', 'C', 'H', 'C']},\n",
       " {'id': 4232678481350000, 'sender': ['C', 'H', 'C', 'H', 'C']},\n",
       " {'id': 4233014013184785, 'sender': ['C', 'H', 'C', 'H', 'C', 'H', 'C']},\n",
       " {'id': 4233422010370556, 'sender': ['C', 'H', 'C', 'H', 'C']}]"
      ]
     },
     "execution_count": 175,
     "metadata": {},
     "output_type": "execute_result"
    }
   ],
   "source": []
  },
  {
   "cell_type": "code",
   "execution_count": 124,
   "metadata": {},
   "outputs": [
    {
     "name": "stdout",
     "output_type": "stream",
     "text": [
      "Empty indices: [6860]\n"
     ]
    },
    {
     "name": "stderr",
     "output_type": "stream",
     "text": [
      "/home/haohaowang_oscar_moegi_waseda_jp/anaconda3/envs/py36/lib/python3.6/site-packages/bert_serving/client/__init__.py:299: UserWarning: some of your sentences have more tokens than \"max_seq_len=25\" set on the server, as consequence you may get less-accurate or truncated embeddings.\n",
      "here is what you can do:\n",
      "- disable the length-check by create a new \"BertClient(check_length=False)\" when you do not want to display this warning\n",
      "- or, start a new server with a larger \"max_seq_len\"\n",
      "  '- or, start a new server with a larger \"max_seq_len\"' % self.length_limit)\n"
     ]
    },
    {
     "name": "stdout",
     "output_type": "stream",
     "text": [
      "Empty indices: [5758]\n"
     ]
    }
   ],
   "source": [
    "X_h_train = get_bert_embedding(df_h_train)\n",
    "X_c_train = get_bert_embedding(df_c_train)"
   ]
  },
  {
   "cell_type": "code",
   "execution_count": 131,
   "metadata": {},
   "outputs": [
    {
     "name": "stdout",
     "output_type": "stream",
     "text": [
      "Empty indices: []\n",
      "Empty indices: []\n"
     ]
    }
   ],
   "source": [
    "X_h_test = get_bert_embedding(df_h_test)\n",
    "X_c_test = get_bert_embedding(df_c_test)"
   ]
  },
  {
   "cell_type": "code",
   "execution_count": 137,
   "metadata": {},
   "outputs": [],
   "source": [
    "param_grid = {\n",
    "    \"n_estimators\": [100],\n",
    "    \"learning_rate\": [0.1],\n",
    "    \"subsample\": [1],\n",
    "    \"max_depth\": [3]\n",
    "}"
   ]
  },
  {
   "cell_type": "code",
   "execution_count": 211,
   "metadata": {},
   "outputs": [
    {
     "data": {
      "text/plain": [
       "(8500, 4)"
      ]
     },
     "execution_count": 211,
     "metadata": {},
     "output_type": "execute_result"
    }
   ],
   "source": [
    "Y_c_train.shape"
   ]
  },
  {
   "cell_type": "code",
   "execution_count": 212,
   "metadata": {},
   "outputs": [],
   "source": [
    "# c_xgb = XGBClassifier(objective=\"multi:softprob\")\n",
    "# c_xgb.fit(X_c_train, Y_c_train)\n",
    "# Y_c_test = c_xgb.predict_proba(X_c_test)"
   ]
  },
  {
   "cell_type": "code",
   "execution_count": 147,
   "metadata": {},
   "outputs": [],
   "source": [
    "class XGBManager:\n",
    "    def __init__(self, param, num_target):\n",
    "        self.num_target = num_target\n",
    "        self.xgbs = [XGBRegressor() for i in range(self.num_target)]\n",
    "        \n",
    "    def train(self, X, Y):\n",
    "        for i in range(self.num_target):\n",
    "            self.xgbs[i].fit(X, [y[i] for y in Y])\n",
    "        \n",
    "    def predict(self, X):\n",
    "        Y = []\n",
    "        for i in range(self.num_target):\n",
    "            Y.append(self.xgbs[i].predict(X))\n",
    "        return Y"
   ]
  },
  {
   "cell_type": "code",
   "execution_count": 148,
   "metadata": {},
   "outputs": [
    {
     "name": "stdout",
     "output_type": "stream",
     "text": [
      "[12:37:56] WARNING: /workspace/src/objective/regression_obj.cu:152: reg:linear is now deprecated in favor of reg:squarederror.\n",
      "[12:38:29] WARNING: /workspace/src/objective/regression_obj.cu:152: reg:linear is now deprecated in favor of reg:squarederror.\n",
      "[12:38:59] WARNING: /workspace/src/objective/regression_obj.cu:152: reg:linear is now deprecated in favor of reg:squarederror.\n"
     ]
    }
   ],
   "source": [
    "xgb_h = XGBManager(None, Y_h_train.shape[1])\n",
    "xgb_h.train(X_h_train, Y_h_train)\n",
    "Y_h_test = xgb_h.predict(X_h_test)"
   ]
  },
  {
   "cell_type": "code",
   "execution_count": 154,
   "metadata": {},
   "outputs": [
    {
     "name": "stdout",
     "output_type": "stream",
     "text": [
      "[13:24:35] WARNING: /workspace/src/objective/regression_obj.cu:152: reg:linear is now deprecated in favor of reg:squarederror.\n",
      "[13:25:17] WARNING: /workspace/src/objective/regression_obj.cu:152: reg:linear is now deprecated in favor of reg:squarederror.\n",
      "[13:25:58] WARNING: /workspace/src/objective/regression_obj.cu:152: reg:linear is now deprecated in favor of reg:squarederror.\n",
      "[13:26:36] WARNING: /workspace/src/objective/regression_obj.cu:152: reg:linear is now deprecated in favor of reg:squarederror.\n"
     ]
    }
   ],
   "source": [
    "xgb_c = XGBManager(None, Y_c_train.shape[1])\n",
    "xgb_c.train(X_c_train, Y_c_train)"
   ]
  },
  {
   "cell_type": "code",
   "execution_count": 157,
   "metadata": {},
   "outputs": [],
   "source": [
    "Y_c_test = xgb_c.predict(X_c_test)"
   ]
  },
  {
   "cell_type": "code",
   "execution_count": 151,
   "metadata": {},
   "outputs": [
    {
     "data": {
      "text/plain": [
       "(3, 780)"
      ]
     },
     "execution_count": 151,
     "metadata": {},
     "output_type": "execute_result"
    }
   ],
   "source": [
    "Y_h_test_new = np.asarray(Y_h_test)\n",
    "Y_h_test_new.shape"
   ]
  },
  {
   "cell_type": "code",
   "execution_count": 158,
   "metadata": {},
   "outputs": [
    {
     "data": {
      "text/plain": [
       "(4, 975)"
      ]
     },
     "execution_count": 158,
     "metadata": {},
     "output_type": "execute_result"
    }
   ],
   "source": [
    "Y_c_test_new = np.asarray(Y_c_test)\n",
    "Y_c_test_new.shape"
   ]
  },
  {
   "cell_type": "code",
   "execution_count": 262,
   "metadata": {},
   "outputs": [],
   "source": [
    "Y = merge_c_and_h(df_test, Y_c_test, Y_h_test)"
   ]
  },
  {
   "cell_type": "markdown",
   "metadata": {},
   "source": [
    "{'jsd': 0.20680088636048105, 'rnss': 0.32577494692649511}"
   ]
  },
  {
   "cell_type": "code",
   "execution_count": 264,
   "metadata": {},
   "outputs": [],
   "source": [
    "json_name = \"test_data_cn_XGB.json\"\n",
    "with open(output_dir / json_name, 'w', encoding=\"utf-8\") as fp:\n",
    "    json.dump(Y, fp, ensure_ascii=False)"
   ]
  },
  {
   "cell_type": "code",
   "execution_count": null,
   "metadata": {},
   "outputs": [],
   "source": [
    "# model = XGBClassifier()\n",
    "# kfold = KFold(n_splits=5, random_state=RANDOM_SEED)\n",
    "# cross_validate\n",
    "# grid = GridSearchCV(estimator=model, \n",
    "#                     param_grid=param_grid, \n",
    "#                     n_jobs=-1, \n",
    "#                     cv=kfold, \n",
    "#                     scoring=[\"f1\", \"accuracy\"], \n",
    "#                     refit=\"f1\"\n",
    "#                    )\n",
    "# grid_result = grid.fit(Y_h_train, Y_h_train)"
   ]
  },
  {
   "cell_type": "code",
   "execution_count": 266,
   "metadata": {},
   "outputs": [],
   "source": [
    "Y_c_train_cat = np.argmax(Y_c_train, axis=1)"
   ]
  },
  {
   "cell_type": "code",
   "execution_count": 284,
   "metadata": {},
   "outputs": [],
   "source": [
    "model_c = XGBClassifier(objective=\"multi:softprob\")\n",
    "model_c.fit(X_c_train, Y_c_train_cat)\n",
    "Y_c_test_cat = model_c.predict_proba(X_c_test)"
   ]
  },
  {
   "cell_type": "code",
   "execution_count": 287,
   "metadata": {},
   "outputs": [],
   "source": [
    "Y_h_train_cat = np.argmax(Y_h_train, axis=1)"
   ]
  },
  {
   "cell_type": "code",
   "execution_count": 288,
   "metadata": {},
   "outputs": [],
   "source": [
    "model_h = XGBClassifier(objective=\"multi:softprob\")\n",
    "model_h.fit(X_h_train, Y_h_train_cat)\n",
    "Y_h_test_cat = model_h.predict_proba(X_h_test)"
   ]
  },
  {
   "cell_type": "code",
   "execution_count": 299,
   "metadata": {},
   "outputs": [],
   "source": [
    "Y_cat = merge_c_and_h_cat(df_test, Y_c_test_cat, Y_h_test_cat)"
   ]
  },
  {
   "cell_type": "markdown",
   "metadata": {},
   "source": [
    "{'jsd': 0.28531068912190655, 'rnss': 0.40621648041542596}"
   ]
  },
  {
   "cell_type": "code",
   "execution_count": 300,
   "metadata": {},
   "outputs": [],
   "source": [
    "json_name = \"test_data_cn_XGB_cat.json\"\n",
    "with open(output_dir / json_name, 'w', encoding=\"utf-8\") as fp:\n",
    "    json.dump(Y_cat, fp, ensure_ascii=False)"
   ]
  }
 ],
 "metadata": {
  "kernelspec": {
   "display_name": "Python 3",
   "language": "python",
   "name": "python3"
  },
  "language_info": {
   "codemirror_mode": {
    "name": "ipython",
    "version": 3
   },
   "file_extension": ".py",
   "mimetype": "text/x-python",
   "name": "python",
   "nbconvert_exporter": "python",
   "pygments_lexer": "ipython3",
   "version": "3.6.9"
  }
 },
 "nbformat": 4,
 "nbformat_minor": 2
}
