{
 "cells": [
  {
   "cell_type": "code",
   "execution_count": 54,
   "metadata": {},
   "outputs": [],
   "source": [
    "import json\n",
    "\n",
    "import pandas as pd\n",
    "from pathlib2 import Path\n",
    "from collections import defaultdict\n",
    "\n",
    "from vocab import Language\n",
    "from data import parse_labels"
   ]
  },
  {
   "cell_type": "code",
   "execution_count": 11,
   "metadata": {},
   "outputs": [],
   "source": [
    "def read_raw_data(data_dir, lang):\n",
    "    if lang == Language.chinese:\n",
    "        with open(data_dir / \"train_data_cn.json\", 'r', encoding=\"utf-8\") as train_fp:\n",
    "            train_json = json.load(train_fp)\n",
    "        with open(data_dir / \"test_data_cn.json\", 'r', encoding=\"utf-8\") as test_fp:\n",
    "            test_json = json.load(test_fp)\n",
    "        return train_json, test_json"
   ]
  },
  {
   "cell_type": "code",
   "execution_count": 38,
   "metadata": {},
   "outputs": [],
   "source": [
    "def process_raw_data(raw_data, is_train):    \n",
    "    def data_gen():\n",
    "        for dialogue in raw_data:\n",
    "            senders = []\n",
    "            texts = []\n",
    "            for turn in dialogue[\"turns\"]:\n",
    "                sender = 1 if turn[\"sender\"].startswith(\"c\") else 0\n",
    "                senders.append(sender)\n",
    "                text = \" \".join(turn[\"utterances\"])\n",
    "                texts.append(text)\n",
    "                \n",
    "            if is_train:\n",
    "                customer_nugget_label, helpdesk_nugget_label, quality_label = \\\n",
    "                    parse_labels(dialogue[\"annotations\"], senders)\n",
    "                yield (dialogue[\"id\"],\n",
    "                       senders,\n",
    "                       texts,\n",
    "                       customer_nugget_label,\n",
    "                       helpdesk_nugget_label,\n",
    "                       quality_label)\n",
    "\n",
    "            else:\n",
    "                yield (dialogue[\"id\"],\n",
    "                       senders,\n",
    "                       texts,\n",
    "                       dialogue_length)\n",
    "    data = [x for x in data_gen()]\n",
    "    return data"
   ]
  },
  {
   "cell_type": "code",
   "execution_count": 52,
   "metadata": {},
   "outputs": [],
   "source": [
    "data_dir = Path(\"stc3dataset/data\")\n",
    "lang = Language.chinese\n",
    "raw_train, raw_test = read_raw_data(data_dir, lang)"
   ]
  },
  {
   "cell_type": "code",
   "execution_count": 39,
   "metadata": {},
   "outputs": [],
   "source": [
    "data_train = process_raw_data(raw_train, True)"
   ]
  },
  {
   "cell_type": "code",
   "execution_count": 51,
   "metadata": {},
   "outputs": [],
   "source": [
    "# No \"PAD\" nuggets?\n",
    "for dialogue in data_train:\n",
    "    for c_label in dialogue[3]:\n",
    "        if c_label[0] != 0:\n",
    "            print(\"Found\")\n",
    "    for h_label in dialogue[4]:\n",
    "        if h_label[0] != 0:\n",
    "            print(\"Found\")"
   ]
  },
  {
   "cell_type": "code",
   "execution_count": 53,
   "metadata": {},
   "outputs": [
    {
     "data": {
      "text/plain": [
       "('3830401296796826',\n",
       " [1, 0],\n",
       " ['中国电信的控制箱就这样吗？也没有人维护,信息安全和人身安全怎么保障？还是好好修修吧？这个应该不差钱吧？位于济南市新泺大街雅居园小区门对面.@中国电信 @中国电信客服 @中国电信济南客服',\n",
       "  '您好,您反映的情况我们已认真记录,会及时向相关部门反馈,敬请等待[呵呵]；'],\n",
       " [array([0.        , 0.7368421 , 0.05263158, 0.        , 0.21052632],\n",
       "        dtype=float32)],\n",
       " [array([0.        , 0.47368422, 0.        , 0.5263158 ], dtype=float32)],\n",
       " array([[0.        , 0.05263158, 0.6315789 , 0.21052632, 0.10526316],\n",
       "        [0.        , 0.15789473, 0.57894737, 0.05263158, 0.21052632],\n",
       "        [0.        , 0.        , 0.7368421 , 0.        , 0.2631579 ]],\n",
       "       dtype=float32))"
      ]
     },
     "execution_count": 53,
     "metadata": {},
     "output_type": "execute_result"
    }
   ],
   "source": [
    "data_train[0]"
   ]
  },
  {
   "cell_type": "code",
   "execution_count": 58,
   "metadata": {},
   "outputs": [],
   "source": [
    "at_tags_dict = defaultdict(list)\n",
    "for dialogue in data_train:\n",
    "    for i, sender in enumerate(dialogue[1]):\n",
    "        if sender == 1:\n",
    "            tokens = dialogue[2][i].split()\n",
    "            for token in tokens:\n",
    "                if token.startswith('@'):\n",
    "                    at_tags_dict[token].append(dialogue[0])"
   ]
  },
  {
   "cell_type": "code",
   "execution_count": 59,
   "metadata": {},
   "outputs": [
    {
     "data": {
      "text/plain": [
       "1121"
      ]
     },
     "execution_count": 59,
     "metadata": {},
     "output_type": "execute_result"
    }
   ],
   "source": [
    "len(at_tags_dict)"
   ]
  },
  {
   "cell_type": "code",
   "execution_count": null,
   "metadata": {},
   "outputs": [],
   "source": [
    "def data_to_df(data, is_train):\n",
    "    df = pd.DataFrame()\n",
    "    for dialogue in data:\n",
    "        for i, sender in enumerate(dialogue[1]):\n",
    "            if sender == 1:\n",
    "                "
   ]
  },
  {
   "cell_type": "code",
   "execution_count": null,
   "metadata": {},
   "outputs": [],
   "source": [
    "df_train"
   ]
  }
 ],
 "metadata": {
  "kernelspec": {
   "display_name": "Python 3",
   "language": "python",
   "name": "python3"
  },
  "language_info": {
   "codemirror_mode": {
    "name": "ipython",
    "version": 3
   },
   "file_extension": ".py",
   "mimetype": "text/x-python",
   "name": "python",
   "nbconvert_exporter": "python",
   "pygments_lexer": "ipython3",
   "version": "3.6.9"
  }
 },
 "nbformat": 4,
 "nbformat_minor": 2
}
